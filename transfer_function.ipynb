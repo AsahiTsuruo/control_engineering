{
 "nbformat": 4,
 "nbformat_minor": 2,
 "metadata": {
  "language_info": {
   "name": "python",
   "codemirror_mode": {
    "name": "ipython",
    "version": 3
   },
   "version": "3.7.5"
  },
  "orig_nbformat": 2,
  "file_extension": ".py",
  "mimetype": "text/x-python",
  "name": "python",
  "npconvert_exporter": "python",
  "pygments_lexer": "ipython3",
  "version": 3
 },
 "cells": [
  {
   "cell_type": "code",
   "execution_count": 11,
   "metadata": {},
   "outputs": [
    {
     "data": {
      "text/latex": "$$\\frac{1}{s^2 + 2 s + 3}$$",
      "text/plain": "\n      1\n-------------\ns^2 + 2 s + 3"
     },
     "execution_count": 11,
     "metadata": {},
     "output_type": "execute_result"
    }
   ],
   "source": [
    "from control.matlab import *\n",
    "Np = [0,1]\n",
    "Dp = [1,2,3]\n",
    "P = control.tf(Np,Dp)\n",
    "P"
   ]
  },
  {
   "cell_type": "code",
   "execution_count": 12,
   "metadata": {},
   "outputs": [
    {
     "data": {
      "text/latex": "$$\\frac{s + 2}{s^3 + 5 s^2 + 3 s + 4}$$",
      "text/plain": "\n        s + 2\n---------------------\ns^3 + 5 s^2 + 3 s + 4"
     },
     "execution_count": 12,
     "metadata": {},
     "output_type": "execute_result"
    }
   ],
   "source": [
    "P = control.tf([1,2],[1,5,3,4])\n",
    "P"
   ]
  },
  {
   "cell_type": "code",
   "execution_count": 13,
   "metadata": {},
   "outputs": [
    {
     "data": {
      "text/latex": "$$\\frac{s + 3}{s^3 + 5 s^2 + 8 s + 4}$$",
      "text/plain": "\n        s + 3\n---------------------\ns^3 + 5 s^2 + 8 s + 4"
     },
     "execution_count": 13,
     "metadata": {},
     "output_type": "execute_result"
    }
   ],
   "source": [
    "P1 = control.tf([1,3],[0,1])\n",
    "P2 = control.tf([0,1],[1,1])\n",
    "P3 = control.tf([0,1],[1,2])\n",
    "P = P1 * P2 * P3**2\n",
    "P"
   ]
  },
  {
   "cell_type": "code",
   "execution_count": 14,
   "metadata": {},
   "outputs": [
    {
     "data": {
      "text/plain": "[[array([1., 3.])]]"
     },
     "execution_count": 14,
     "metadata": {},
     "output_type": "execute_result"
    }
   ],
   "source": [
    "P.num"
   ]
  },
  {
   "cell_type": "code",
   "execution_count": 15,
   "metadata": {},
   "outputs": [
    {
     "data": {
      "text/plain": "[[array([1, 5, 8, 4])]]"
     },
     "execution_count": 15,
     "metadata": {},
     "output_type": "execute_result"
    }
   ],
   "source": [
    "P.den"
   ]
  },
  {
   "cell_type": "code",
   "execution_count": 16,
   "metadata": {},
   "outputs": [
    {
     "name": "stdout",
     "output_type": "stream",
     "text": "[1. 3.]\n[1 5 8 4]\n"
    }
   ],
   "source": [
    "[[numP]],[[denP]] = control.tfdata(P)\n",
    "print(numP)\n",
    "print(denP)"
   ]
  },
  {
   "cell_type": "code",
   "execution_count": 19,
   "metadata": {},
   "outputs": [
    {
     "data": {
      "text/plain": "A = [[ 0.  1.]\n [-1. -1.]]\n\nB = [[0.]\n [1.]]\n\nC = [[1. 0.]]\n\nD = [[0.]]"
     },
     "execution_count": 19,
     "metadata": {},
     "output_type": "execute_result"
    }
   ],
   "source": [
    "A = \"0 1; -1 -1\"\n",
    "B = \"0; 1\"\n",
    "C = \"1 0\"\n",
    "D = \"0\"\n",
    "P = control.ss(A,B,C,D)\n",
    "P"
   ]
  },
  {
   "cell_type": "code",
   "execution_count": 21,
   "metadata": {},
   "outputs": [
    {
     "data": {
      "text/plain": "A = [[1. 1. 2.]\n [2. 1. 1.]\n [3. 4. 5.]]\n\nB = [[2.]\n [0.]\n [1.]]\n\nC = [[1. 1. 0.]]\n\nD = [[0.]]"
     },
     "execution_count": 21,
     "metadata": {},
     "output_type": "execute_result"
    }
   ],
   "source": [
    "A = \"1 1 2; 2 1 1; 3 4 5\"\n",
    "B = \"2; 0; 1\"\n",
    "C = \"1 1 0\"\n",
    "D = \"0\"\n",
    "P = control.ss(A,B,C,D)\n",
    "P"
   ]
  },
  {
   "cell_type": "code",
   "execution_count": 22,
   "metadata": {},
   "outputs": [
    {
     "name": "stdout",
     "output_type": "stream",
     "text": "A= [[1. 1. 2.]\n [2. 1. 1.]\n [3. 4. 5.]]\nB= [[2.]\n [0.]\n [1.]]\nC= [[1. 1. 0.]]\nD= [[0.]]\n"
    }
   ],
   "source": [
    "print(\"A=\",P.A)\n",
    "print(\"B=\",P.B)\n",
    "print(\"C=\",P.C)\n",
    "print(\"D=\",P.D)"
   ]
  },
  {
   "cell_type": "code",
   "execution_count": 23,
   "metadata": {},
   "outputs": [
    {
     "data": {
      "text/plain": "(matrix([[1., 1., 2.],\n         [2., 1., 1.],\n         [3., 4., 5.]]), matrix([[2.],\n         [0.],\n         [1.]]), matrix([[1., 1., 0.]]), matrix([[0.]]))"
     },
     "execution_count": 23,
     "metadata": {},
     "output_type": "execute_result"
    }
   ],
   "source": [
    "control.ssdata(P)"
   ]
  },
  {
   "cell_type": "code",
   "execution_count": 25,
   "metadata": {},
   "outputs": [
    {
     "name": "stdout",
     "output_type": "stream",
     "text": "S= \n        s + 1\n---------------------\ns^3 + 2 s^2 + 2 s + 1\n\nS= \n        s + 1\n---------------------\ns^3 + 2 s^2 + 2 s + 1\n\n"
    }
   ],
   "source": [
    "S1 = control.tf([0,1],[1,1])\n",
    "S2 = control.tf([1,1],[1,1,1])\n",
    "S = S2*S1\n",
    "print(\"S=\",S)\n",
    "S = control.series(S1,S2)\n",
    "print(\"S=\",S)"
   ]
  },
  {
   "cell_type": "code",
   "execution_count": 27,
   "metadata": {},
   "outputs": [
    {
     "name": "stdout",
     "output_type": "stream",
     "text": "S= \n   2 s^2 + 3 s + 2\n---------------------\ns^3 + 2 s^2 + 2 s + 1\n\nS= \n   2 s^2 + 3 s + 2\n---------------------\ns^3 + 2 s^2 + 2 s + 1\n\n"
    }
   ],
   "source": [
    "S = S1 + S2\n",
    "print(\"S=\",S)\n",
    "S = control.parallel(S1,S2)\n",
    "print(\"S=\",S)"
   ]
  },
  {
   "cell_type": "code",
   "execution_count": 28,
   "metadata": {},
   "outputs": [
    {
     "name": "stdout",
     "output_type": "stream",
     "text": "S= \n    s^3 + 2 s^2 + 2 s + 1\n-----------------------------\ns^4 + 3 s^3 + 5 s^2 + 5 s + 2\n\nS= \n     s^2 + s + 1\n---------------------\ns^3 + 2 s^2 + 3 s + 2\n\n"
    }
   ],
   "source": [
    "S = S1 / (1 + S1*S2)\n",
    "print(\"S=\",S)\n",
    "S = control.feedback(S1,S2)\n",
    "print(\"S=\",S)"
   ]
  },
  {
   "cell_type": "code",
   "execution_count": 31,
   "metadata": {},
   "outputs": [
    {
     "name": "stdout",
     "output_type": "stream",
     "text": "S= \n     s^2 + s + 1\n---------------------\ns^3 + 2 s^2 + 3 s + 2\n\n"
    }
   ],
   "source": [
    "print(\"S=\",S.minreal())"
   ]
  },
  {
   "cell_type": "code",
   "execution_count": 32,
   "metadata": {},
   "outputs": [
    {
     "data": {
      "text/latex": "$$\\frac{3 s^2 + 7 s + 2}{7 s^3 + 17 s^2 + 7 s}$$",
      "text/plain": "\n  3 s^2 + 7 s + 2\n--------------------\n7 s^3 + 17 s^2 + 7 s"
     },
     "execution_count": 32,
     "metadata": {},
     "output_type": "execute_result"
    }
   ],
   "source": [
    "S1 = control.tf(1,[1,1])\n",
    "S2 = control.tf(1,[1,2])\n",
    "S3 = control.tf([3,1],[1,0])\n",
    "S4 = control.tf([2,0],[0,1])\n",
    "S12 = control.feedback(S1,S2)\n",
    "S123 = control.series(S12,S3)\n",
    "S = control.feedback(S123,S4)\n",
    "S"
   ]
  },
  {
   "cell_type": "code",
   "execution_count": 33,
   "metadata": {},
   "outputs": [
    {
     "name": "stdout",
     "output_type": "stream",
     "text": "A = [[-1. -1.]\n [ 1.  0.]]\n\nB = [[-1.]\n [ 0.]]\n\nC = [[ 0. -1.]]\n\nD = [[0.]]\n\n\n     1\n-----------\ns^2 + s + 1\n\n"
    }
   ],
   "source": [
    "P = control.tf([0,1],[1,1,1])\n",
    "Pss = control.tf2ss(P)\n",
    "print(Pss)\n",
    "Ptf = control.ss2tf(Pss)\n",
    "print(Ptf)"
   ]
  },
  {
   "cell_type": "code",
   "execution_count": 34,
   "metadata": {},
   "outputs": [
    {
     "name": "stdout",
     "output_type": "stream",
     "text": "A = [[ 3. 21. 24.]\n [ 1.  0.  0.]\n [ 0.  1.  0.]]\n\nB = [[1.]\n [0.]\n [0.]]\n\nC = [[ 1.  9. 27.]]\n\nD = [[0.]]\n\n"
    }
   ],
   "source": [
    "from control import canonical_form\n",
    "\n",
    "A = \"1 2 3; 3 2 1; 4 5 0\"\n",
    "B = \"1; 0; 1\"\n",
    "C = \"0 2 1\"\n",
    "D = \"0\"\n",
    "Pss = control.ss(A,B,C,D)\n",
    "\n",
    "Pr, T = canonical_form(Pss,form=\"reachable\")\n",
    "print(Pr)"
   ]
  },
  {
   "cell_type": "code",
   "execution_count": null,
   "metadata": {},
   "outputs": [],
   "source": [
    "Po, T = canonical_form(Pss,form=\"observable\")\n",
    "Po"
   ]
  }
 ]
}