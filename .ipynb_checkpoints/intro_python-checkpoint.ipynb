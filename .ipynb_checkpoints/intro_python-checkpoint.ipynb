{
 "cells": [
  {
   "cell_type": "code",
   "execution_count": 3,
   "metadata": {},
   "outputs": [
    {
     "name": "stdout",
     "output_type": "stream",
     "text": [
      "0\n",
      "-\n",
      "1\n",
      "--\n",
      "2\n",
      "-.\n",
      "3\n",
      ":\n",
      "0\n",
      "-\n"
     ]
    }
   ],
   "source": [
    "def linestyle_generator():\n",
    "    linestyle = [\"-\",\"--\",\"-.\",\":\"]\n",
    "    lineID = 0\n",
    "    while True:\n",
    "        print(lineID)\n",
    "        yield linestyle[lineID]\n",
    "        lineID = (lineID + 1) % len(linestyle)\n",
    "LS = linestyle_generator()\n",
    "for i in range(5):\n",
    "    print(next(LS))"
   ]
  },
  {
   "cell_type": "code",
   "execution_count": null,
   "metadata": {},
   "outputs": [],
   "source": []
  }
 ],
 "metadata": {
  "kernelspec": {
   "display_name": "Python 3",
   "language": "python",
   "name": "python3"
  },
  "language_info": {
   "codemirror_mode": {
    "name": "ipython",
    "version": 3
   },
   "file_extension": ".py",
   "mimetype": "text/x-python",
   "name": "python",
   "nbconvert_exporter": "python",
   "pygments_lexer": "ipython3",
   "version": "3.7.5"
  }
 },
 "nbformat": 4,
 "nbformat_minor": 4
}
